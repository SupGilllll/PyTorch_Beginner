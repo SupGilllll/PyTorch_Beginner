{
 "cells": [
  {
   "cell_type": "code",
   "execution_count": 1,
   "metadata": {
    "collapsed": true
   },
   "outputs": [],
   "source": [
    "import torch\n",
    "import torch.nn as nn\n",
    "import torch.nn.functional as F\n",
    "from torch.utils.data import DataLoader\n",
    "from torchvision import datasets, transforms\n",
    "from torchvision.utils import make_grid\n",
    "\n",
    "import numpy as np\n",
    "import pandas as pd\n",
    "from sklearn.metrics import confusion_matrix\n",
    "import matplotlib.pyplot as plt\n",
    "%matplotlib inline"
   ]
  },
  {
   "cell_type": "code",
   "execution_count": 2,
   "outputs": [],
   "source": [
    "transform=transforms.ToTensor()\n",
    "train_data=datasets.MNIST(root='Data',train=True,transform=transform,download=True)\n",
    "test_data=datasets.MNIST(root='Data',train=False,transform=transform,download=True)"
   ],
   "metadata": {
    "collapsed": false,
    "pycharm": {
     "name": "#%%\n"
    }
   }
  },
  {
   "cell_type": "code",
   "execution_count": 5,
   "outputs": [],
   "source": [
    "train_set=DataLoader(train_data,batch_size=10,shuffle=True)\n",
    "test_set=DataLoader(test_data,batch_size=10,shuffle=False)"
   ],
   "metadata": {
    "collapsed": false,
    "pycharm": {
     "name": "#%%\n"
    }
   }
  },
  {
   "cell_type": "code",
   "execution_count": 6,
   "outputs": [],
   "source": [
    "class CNN(nn.Module):\n",
    "    def __init__(self,layer=[120,84]):\n",
    "        super().__init__()\n",
    "        layers= [nn.Conv2d(1, 6, 3, 1),\n",
    "                 nn.ReLU(),\n",
    "                 nn.MaxPool2d(2, 2),\n",
    "                 nn.Conv2d(6, 16, 3, 1),\n",
    "                 nn.ReLU(),\n",
    "                 nn.MaxPool2d(2, 2)]\n",
    "        self.layers=nn.Sequential(*layers)\n",
    "        self.fc1=nn.Linear(5*5*16,layer[0])\n",
    "        self.fc2=nn.Linear(layer[0],layer[1])\n",
    "        self.fc3=nn.Linear(layer[1],10)\n",
    "    def forward(self, x):\n",
    "        x=self.layers(x)\n",
    "        x=x.view(-1,5*5*16)\n",
    "        x=F.relu(self.fc1(x))\n",
    "        x=F.relu(self.fc2(x))\n",
    "        x=self.fc3(x)\n",
    "        return x"
   ],
   "metadata": {
    "collapsed": false,
    "pycharm": {
     "name": "#%%\n"
    }
   }
  },
  {
   "cell_type": "code",
   "execution_count": 19,
   "outputs": [],
   "source": [
    "model=CNN()\n",
    "criterion=nn.CrossEntropyLoss()\n",
    "optimizer=torch.optim.Adam(model.parameters(),lr=0.001)"
   ],
   "metadata": {
    "collapsed": false,
    "pycharm": {
     "name": "#%%\n"
    }
   }
  },
  {
   "cell_type": "code",
   "execution_count": 20,
   "outputs": [
    {
     "name": "stdout",
     "output_type": "stream",
     "text": [
      "epoch:1 batch:600 loss:0.11686532199382782\n",
      "epoch:1 batch:1200 loss:0.13348868489265442\n",
      "epoch:1 batch:1800 loss:0.1400662362575531\n",
      "epoch:1 batch:2400 loss:0.01961212232708931\n",
      "epoch:1 batch:3000 loss:0.032312680035829544\n",
      "epoch:1 batch:3600 loss:0.33361712098121643\n",
      "epoch:1 batch:4200 loss:0.29184970259666443\n",
      "epoch:1 batch:4800 loss:0.054161690175533295\n",
      "epoch:1 batch:5400 loss:0.049982260912656784\n",
      "epoch:1 batch:6000 loss:0.0007308960193768144\n",
      "epoch:2 batch:600 loss:0.008207583799958229\n",
      "epoch:2 batch:1200 loss:0.4996742308139801\n",
      "epoch:2 batch:1800 loss:0.005007552914321423\n",
      "epoch:2 batch:2400 loss:0.0021223544608801603\n",
      "epoch:2 batch:3000 loss:0.004708290100097656\n",
      "epoch:2 batch:3600 loss:0.03735702112317085\n",
      "epoch:2 batch:4200 loss:0.0017001151572912931\n",
      "epoch:2 batch:4800 loss:0.02551255188882351\n",
      "epoch:2 batch:5400 loss:0.0013784408802166581\n",
      "epoch:2 batch:6000 loss:0.0007983684772625566\n",
      "epoch:3 batch:600 loss:0.40697336196899414\n",
      "epoch:3 batch:1200 loss:0.012385845184326172\n",
      "epoch:3 batch:1800 loss:0.004223132040351629\n",
      "epoch:3 batch:2400 loss:0.0243103988468647\n",
      "epoch:3 batch:3000 loss:0.0010783672332763672\n",
      "epoch:3 batch:3600 loss:0.001042222953401506\n",
      "epoch:3 batch:4200 loss:0.3401488661766052\n",
      "epoch:3 batch:4800 loss:0.0028673172928392887\n",
      "epoch:3 batch:5400 loss:0.0008143901941366494\n",
      "epoch:3 batch:6000 loss:0.02522902563214302\n",
      "It takes 75.57887578010559 seconds\n"
     ]
    }
   ],
   "source": [
    "import time\n",
    "start=time.time()\n",
    "\n",
    "epoch=3\n",
    "train_losses = []\n",
    "test_losses = []\n",
    "train_correct = []\n",
    "test_correct = []\n",
    "\n",
    "for i in range(epoch):\n",
    "    i=i+1\n",
    "    train_count=0\n",
    "    test_count=0\n",
    "    for b,(x_train,y_train) in enumerate(train_set):\n",
    "        b=b+1\n",
    "        y_pred=model(x_train)\n",
    "        loss=criterion(y_pred,y_train)\n",
    "\n",
    "        count=(y_pred.argmax(1)==y_train).sum()\n",
    "        train_count+=count\n",
    "\n",
    "        optimizer.zero_grad()\n",
    "        loss.backward()\n",
    "        optimizer.step()\n",
    "\n",
    "        if b%600==0:\n",
    "            print(f'epoch:{i} batch:{b} loss:{loss}')\n",
    "    train_losses.append(loss)\n",
    "    train_correct.append(train_count)\n",
    "    with torch.no_grad():\n",
    "        for b,(x_test,y_test) in enumerate(test_set):\n",
    "            b=b+1\n",
    "            y_pred=model(x_test)\n",
    "            count=(y_pred.argmax(1)==y_test).sum()\n",
    "            test_count+=count\n",
    "        test_losses.append(criterion(y_pred,y_test))\n",
    "        test_correct.append(test_count)\n",
    "finish=time.time()\n",
    "print(f'It takes {(finish-start)} seconds')"
   ],
   "metadata": {
    "collapsed": false,
    "pycharm": {
     "name": "#%%\n"
    }
   }
  },
  {
   "cell_type": "code",
   "execution_count": 21,
   "outputs": [
    {
     "data": {
      "text/plain": "<Figure size 432x288 with 1 Axes>",
      "image/png": "[encoded data removed]"
     },
     "metadata": {
      "needs_background": "light"
     },
     "output_type": "display_data"
    }
   ],
   "source": [
    "plt.plot(train_losses,label='train')\n",
    "plt.plot(test_losses,label='test')\n",
    "plt.legend()\n",
    "plt.show()"
   ],
   "metadata": {
    "collapsed": false,
    "pycharm": {
     "name": "#%%\n"
    }
   }
  },
  {
   "cell_type": "code",
   "execution_count": 22,
   "outputs": [
    {
     "data": {
      "text/plain": "<Figure size 432x288 with 1 Axes>",
      "image/png": "[encoded data removed]"
     },
     "metadata": {
      "needs_background": "light"
     },
     "output_type": "display_data"
    }
   ],
   "source": [
    "plt.plot([t/600 for t in train_correct], label='training accuracy')\n",
    "plt.plot([t/100 for t in test_correct], label='validation accuracy')\n",
    "plt.title('Accuracy at the end of each epoch')\n",
    "plt.legend();"
   ],
   "metadata": {
    "collapsed": false,
    "pycharm": {
     "name": "#%%\n"
    }
   }
  },
  {
   "cell_type": "code",
   "execution_count": 29,
   "outputs": [
    {
     "data": {
      "text/plain": "98.02"
     },
     "execution_count": 29,
     "metadata": {},
     "output_type": "execute_result"
    }
   ],
   "source": [
    "accuracy=test_correct[-1].item()*100/len(test_data)\n",
    "accuracy"
   ],
   "metadata": {
    "collapsed": false,
    "pycharm": {
     "name": "#%%\n"
    }
   }
  },
  {
   "cell_type": "code",
   "execution_count": 32,
   "outputs": [
    {
     "name": "stdout",
     "output_type": "stream",
     "text": [
      "[0 1 2 3 4 5 6 7 8 9]\n",
      "[[1 0 0 0 0 0 0 0 0 0]\n",
      " [0 1 0 0 0 0 0 0 0 0]\n",
      " [0 0 1 0 0 0 0 0 0 0]\n",
      " [0 0 0 1 0 0 0 0 0 0]\n",
      " [0 0 0 0 1 0 0 0 0 0]\n",
      " [0 0 0 0 0 1 0 0 0 0]\n",
      " [0 0 0 0 0 0 1 0 0 0]\n",
      " [0 0 0 0 0 0 0 1 0 0]\n",
      " [0 0 0 0 0 0 0 0 1 0]\n",
      " [0 0 0 0 0 0 0 0 0 1]]\n"
     ]
    }
   ],
   "source": [
    "print(np.arange(10))\n",
    "print(confusion_matrix(y_pred.argmax(1).reshape(-1),y_test.reshape(-1)))"
   ],
   "metadata": {
    "collapsed": false,
    "pycharm": {
     "name": "#%%\n"
    }
   }
  },
  {
   "cell_type": "code",
   "execution_count": 42,
   "outputs": [
    {
     "name": "stdout",
     "output_type": "stream",
     "text": [
      "tensor([7, 8, 9, 0, 1, 2, 3, 4, 5, 6])\n"
     ]
    },
    {
     "data": {
      "text/plain": "<matplotlib.image.AxesImage at 0x1903c3817f0>"
     },
     "execution_count": 42,
     "metadata": {},
     "output_type": "execute_result"
    },
    {
     "data": {
      "text/plain": "<Figure size 432x288 with 1 Axes>",
      "image/png": "[encoded data removed]"
     },
     "metadata": {
      "needs_background": "light"
     },
     "output_type": "display_data"
    }
   ],
   "source": [
    "print(y_test)\n",
    "im=make_grid([item for item in x_test],10)\n",
    "plt.imshow(np.transpose(im.numpy(), (1, 2, 0)))"
   ],
   "metadata": {
    "collapsed": false,
    "pycharm": {
     "name": "#%%\n"
    }
   }
  },
  {
   "cell_type": "code",
   "execution_count": 43,
   "outputs": [
    {
     "data": {
      "text/plain": "torch.Size([3, 32, 302])"
     },
     "execution_count": 43,
     "metadata": {},
     "output_type": "execute_result"
    }
   ],
   "source": [
    "im.size()"
   ],
   "metadata": {
    "collapsed": false,
    "pycharm": {
     "name": "#%%\n"
    }
   }
  },
  {
   "cell_type": "code",
   "execution_count": 45,
   "outputs": [
    {
     "data": {
      "text/plain": "(32, 302, 3)"
     },
     "execution_count": 45,
     "metadata": {},
     "output_type": "execute_result"
    }
   ],
   "source": [
    "np.transpose(im.numpy(), (1, 2, 0)).shape"
   ],
   "metadata": {
    "collapsed": false,
    "pycharm": {
     "name": "#%%\n"
    }
   }
  }
 ],
 "metadata": {
  "kernelspec": {
   "display_name": "Python 3",
   "language": "python",
   "name": "python3"
  },
  "language_info": {
   "codemirror_mode": {
    "name": "ipython",
    "version": 2
   },
   "file_extension": ".py",
   "mimetype": "text/x-python",
   "name": "python",
   "nbconvert_exporter": "python",
   "pygments_lexer": "ipython2",
   "version": "2.7.6"
  }
 },
 "nbformat": 4,
 "nbformat_minor": 0
}